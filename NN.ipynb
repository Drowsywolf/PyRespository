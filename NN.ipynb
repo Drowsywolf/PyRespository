{
 "cells": [
  {
   "cell_type": "code",
   "execution_count": 1,
   "metadata": {},
   "outputs": [],
   "source": [
    "import numpy as np\n",
    "from numpy import ndarray\n",
    "from typing import Dict, Tuple"
   ]
  },
  {
   "cell_type": "code",
   "execution_count": 2,
   "metadata": {},
   "outputs": [],
   "source": [
    "def forward_linear_regression(X_batch:ndarray,\n",
    "                              y_batch:ndarray,\n",
    "                              weights:Dict[str,ndarray])->Tuple[float,Dict[str,ndarray]]:\n",
    "    \n",
    "    assert X_batch.shape[0] == y_batch.shape[0]\n",
    "    assert X_batch.shape[1] == weights['W'].shape[0]    \n",
    "    assert weights['B'].shape[0] == weights['B'].shape[1] == 1\n",
    "    \n",
    "    N = np.dot(X_batch,weights['W'])\n",
    "    P = N + weights['B']\n",
    "    loss =  np.mean(np.power(y_batch - P,2))\n",
    "    \n",
    "    forward_info:Dict[str,ndarray] = {}\n",
    "    forward_info['X'] = X_batch\n",
    "    forward_info['N'] = N\n",
    "    forward_info['P'] = P\n",
    "    forward_info['y'] = y_batch\n",
    "    \n",
    "    return loss, forward_info"
   ]
  },
  {
   "cell_type": "code",
   "execution_count": 3,
   "metadata": {},
   "outputs": [],
   "source": [
    "def loss_gradients(forward_info:Dict[str,ndarray],\n",
    "                   weights:Dict[str,ndarray])->Dict[str,ndarray]:\n",
    "    \n",
    "    batch_size = forward_info['X'].shape[0]\n",
    "    dLdp = -2 * (forward_info['y'] - forward_info['P'])\n",
    "    dPdN = np.ones_like(forward_info['N'])\n",
    "    dPdB = np.ones_like(weights['B'])\n",
    "    dLdN = dLdp * dPdN\n",
    "    dNdW = np.transpose(forward_info['X'],(1,0))\n",
    "    dLdW = np.dot(dNdW,dLdN)\n",
    "    dLdB = (dLdp * dPdB).sum(axis=0)\n",
    "    \n",
    "    loss_gradients:Dict[str,ndarray] = {}\n",
    "    loss_gradients['W'] = dLdW\n",
    "    loss_gradients['B'] = dLdB\n",
    "    \n",
    "    return loss_gradients"
   ]
  },
  {
   "cell_type": "code",
   "execution_count": null,
   "metadata": {},
   "outputs": [],
   "source": []
  }
 ],
 "metadata": {
  "interpreter": {
   "hash": "53d2a1e0f53c7ee4b22ab0eda55f45243866c81881a178b2a618c8489557e1a4"
  },
  "kernelspec": {
   "display_name": "Python 3.9.0 64-bit",
   "language": "python",
   "name": "python3"
  },
  "language_info": {
   "codemirror_mode": {
    "name": "ipython",
    "version": 3
   },
   "file_extension": ".py",
   "mimetype": "text/x-python",
   "name": "python",
   "nbconvert_exporter": "python",
   "pygments_lexer": "ipython3",
   "version": "3.9.0"
  },
  "orig_nbformat": 4
 },
 "nbformat": 4,
 "nbformat_minor": 2
}
